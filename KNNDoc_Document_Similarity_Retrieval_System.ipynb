{
  "cells": [
    {
      "cell_type": "markdown",
      "metadata": {
        "id": "view-in-github",
        "colab_type": "text"
      },
      "source": [
        "<a href=\"https://colab.research.google.com/github/azizdhaoui/-Document-Similarity-Retrieval-System-/blob/main/KNNDoc_Document_Similarity_Retrieval_System.ipynb\" target=\"_parent\"><img src=\"https://colab.research.google.com/assets/colab-badge.svg\" alt=\"Open In Colab\"/></a>"
      ]
    },
    {
      "cell_type": "code",
      "source": [
        "import numpy as np\n",
        "from sklearn.metrics.pairwise import cosine_similarity\n",
        "from sklearn.feature_extraction.text import TfidfVectorizer\n",
        "import nltk\n",
        "from nltk.corpus import stopwords\n",
        "from nltk.tokenize import word_tokenize\n",
        "from nltk.stem import PorterStemmer, WordNetLemmatizer\n",
        "import string\n",
        "import nltk\n",
        "nltk.download('stopwords')\n",
        "nltk.download('wordnet')\n",
        "nltk.download('punkt')\n",
        "\n",
        "\n",
        "\n",
        "def preprocess_text(text):\n",
        "    # Lowercasing\n",
        "    text = text.lower()\n",
        "    # Tokenization\n",
        "    tokens = word_tokenize(text)\n",
        "    # Removing punctuation\n",
        "    tokens = [token for token in tokens if token not in string.punctuation]\n",
        "    # Removing stopwords\n",
        "    stop_words = set(stopwords.words('english'))\n",
        "    tokens = [token for token in tokens if token not in stop_words]\n",
        "    # Stemming\n",
        "    stemmer = PorterStemmer()\n",
        "    tokens = [stemmer.stem(token) for token in tokens]\n",
        "    # Lemmatization\n",
        "    lemmatizer = WordNetLemmatizer()\n",
        "    tokens = [lemmatizer.lemmatize(token) for token in tokens]\n",
        "    return ' '.join(tokens)\n",
        "\n",
        "def KNNDoc(X, corpus, k, mesureSim='cosine'):\n",
        "    # Preprocess X\n",
        "    X_processed = preprocess_text(X)\n",
        "    # Preprocess corpus\n",
        "    corpus_processed = [preprocess_text(doc) for doc in corpus]\n",
        "    # Vectorize X and corpus\n",
        "    vectorizer = TfidfVectorizer()\n",
        "    X_rep = vectorizer.fit_transform([X_processed] + corpus_processed)\n",
        "    print(X_rep)\n",
        "    print(X_rep.shape)\n",
        "\n",
        "    # Calculate similarity\n",
        "    if mesureSim == 'cosine':\n",
        "        similarities = cosine_similarity(X_rep)[0][1:]\n",
        "        print()\n",
        "        print()\n",
        "        print(similarities)\n",
        "    else:\n",
        "        raise ValueError(\"Invalid similarity measure. Supported measures: 'cosine'.\")\n",
        "    # Sort indices based on similarity\n",
        "    sorted_indices = np.argsort(similarities)[::-1]\n",
        "    # Select top k indices\n",
        "    top_k_indices = sorted_indices[:k]\n",
        "    # Get top k documents\n",
        "    top_k_documents = [corpus[i] for i in top_k_indices]\n",
        "    return top_k_documents\n",
        "\n",
        "# Example usage\n",
        "X = \"How to learn Python?\"\n",
        "corpus = [\n",
        "    \"I want to learn Python programming.\",\n",
        "    \"Python is a great programming language.\",\n",
        "    \"Where can I find Python tutorials?\",\n",
        "    \"Learning Python is easy and fun.\"\n",
        "]\n",
        "k = 2\n",
        "result = KNNDoc(X, corpus, k)\n",
        "print(\"Top\", k, \"documents similar to : \", X , \" are\", result)\n"
      ],
      "metadata": {
        "colab": {
          "base_uri": "https://localhost:8080/"
        },
        "id": "FpD4eszDPWj7",
        "outputId": "c4f08439-f101-410a-a4a5-0c7af93eb138"
      },
      "execution_count": null,
      "outputs": [
        {
          "output_type": "stream",
          "name": "stderr",
          "text": [
            "[nltk_data] Downloading package stopwords to /root/nltk_data...\n",
            "[nltk_data]   Unzipping corpora/stopwords.zip.\n",
            "[nltk_data] Downloading package wordnet to /root/nltk_data...\n",
            "[nltk_data] Downloading package punkt to /root/nltk_data...\n",
            "[nltk_data]   Unzipping tokenizers/punkt.zip.\n"
          ]
        },
        {
          "output_type": "stream",
          "name": "stdout",
          "text": [
            "  (0, 5)\t0.8148024746671689\n",
            "  (0, 7)\t0.5797386715376657\n",
            "  (1, 5)\t0.43907380594868767\n",
            "  (1, 7)\t0.31240462919759415\n",
            "  (1, 9)\t0.6556161938708753\n",
            "  (1, 6)\t0.5289470171197818\n",
            "  (2, 7)\t0.2808823162882302\n",
            "  (2, 6)\t0.47557510189256375\n",
            "  (2, 3)\t0.5894630806320427\n",
            "  (2, 4)\t0.5894630806320427\n",
            "  (3, 7)\t0.3193023297639811\n",
            "  (3, 1)\t0.6700917930430479\n",
            "  (3, 8)\t0.6700917930430479\n",
            "  (4, 5)\t0.4094299535661046\n",
            "  (4, 7)\t0.2913127840770238\n",
            "  (4, 0)\t0.6113525885101619\n",
            "  (4, 2)\t0.6113525885101619\n",
            "(5, 10)\n",
            "\n",
            "\n",
            "[0.53887147 0.16283834 0.18511191 0.50248983]\n",
            "Top 2 documents similar to :  How to learn Python?  are ['I want to learn Python programming.', 'Learning Python is easy and fun.']\n"
          ]
        }
      ]
    },
    {
      "cell_type": "code",
      "source": [],
      "metadata": {
        "id": "tklZE8tlP2xy"
      },
      "execution_count": null,
      "outputs": []
    },
    {
      "cell_type": "code",
      "source": [],
      "metadata": {
        "id": "C-W-jMuwUEgv"
      },
      "execution_count": null,
      "outputs": []
    }
  ],
  "metadata": {
    "kernelspec": {
      "display_name": "Python 3",
      "language": "python",
      "name": "python3"
    },
    "language_info": {
      "codemirror_mode": {
        "name": "ipython",
        "version": 3
      },
      "file_extension": ".py",
      "mimetype": "text/x-python",
      "name": "python",
      "nbconvert_exporter": "python",
      "pygments_lexer": "ipython3",
      "version": "3.10.11"
    },
    "colab": {
      "provenance": [],
      "include_colab_link": true
    }
  },
  "nbformat": 4,
  "nbformat_minor": 0
}